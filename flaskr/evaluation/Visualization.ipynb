{
 "cells": [
  {
   "cell_type": "code",
   "execution_count": null,
   "id": "86154bfb",
   "metadata": {},
   "outputs": [],
   "source": [
    "import pandas as pd\n",
    "import matplotlib.pyplot as plt\n",
    "import seaborn as sns\n",
    "from scipy.stats import f_oneway\n",
    "\n",
    "# Load the data\n",
    "file_path = 'F-test.csv'  # Make sure this path matches the path of your data file\n",
    "data = pd.read_csv(file_path)\n",
    "\n",
    "# Define group labels\n",
    "label_mapping = {1: 'user-based KNN', 2: 'Content-based KNN', 3: 'Hybrid algorithm'}\n",
    "data['labels'] = data['labels'].map(label_mapping)  # Update the 'labels' column with the new algorithm names\n",
    "\n",
    "# Group by 'labels' and get the 'F_test' column data\n",
    "groups = data.groupby('labels')['F_test']\n",
    "\n",
    "# Perform one-way ANOVA (Analysis of Variance)\n",
    "anova_result = f_oneway(*(groups.get_group(x) for x in groups.groups))\n",
    "\n",
    "# Print ANOVA results\n",
    "print(f\"ANOVA result - F statistic: {anova_result.statistic}, p-value: {anova_result.pvalue}\")\n",
    "\n",
    "# Data visualization: draw a boxplot\n",
    "plt.figure(figsize=(10, 6))\n",
    "sns.boxplot(data=[groups.get_group(x) for x in groups.groups])\n",
    "plt.title('Boxplot of F_test Scores by Algorithm')\n",
    "plt.xlabel('Algorithm Type')\n",
    "plt.ylabel('F_test Scores')\n",
    "plt.xticks(ticks=range(len(groups.groups)), labels=[f'{label}' for label in groups.groups])\n",
    "plt.grid(True)\n",
    "plt.show()\n"
   ]
  }
 ],
 "metadata": {
  "kernelspec": {
   "display_name": "Python 3 (ipykernel)",
   "language": "python",
   "name": "python3"
  },
  "language_info": {
   "codemirror_mode": {
    "name": "ipython",
    "version": 3
   },
   "file_extension": ".py",
   "mimetype": "text/x-python",
   "name": "python",
   "nbconvert_exporter": "python",
   "pygments_lexer": "ipython3",
   "version": "3.11.5"
  }
 },
 "nbformat": 4,
 "nbformat_minor": 5
}
